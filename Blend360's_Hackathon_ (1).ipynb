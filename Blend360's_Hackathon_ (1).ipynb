{
  "nbformat": 4,
  "nbformat_minor": 0,
  "metadata": {
    "colab": {
      "provenance": []
    },
    "kernelspec": {
      "name": "python3",
      "display_name": "Python 3"
    },
    "language_info": {
      "name": "python"
    },
    "accelerator": "TPU",
    "gpuClass": "standard"
  },
  "cells": [
    {
      "cell_type": "code",
      "source": [
        "!pip install tensorflow "
      ],
      "metadata": {
        "id": "z3uzIL88qvXO"
      },
      "execution_count": null,
      "outputs": []
    },
    {
      "cell_type": "code",
      "source": [
        "import tensorflow as tf"
      ],
      "metadata": {
        "id": "l5CELXB_rZGa"
      },
      "execution_count": null,
      "outputs": []
    },
    {
      "cell_type": "code",
      "source": [
        "import numpy as np\n",
        "import pandas as pd\n",
        "\n",
        "import seaborn as sns\n",
        "import matplotlib.pyplot as plt\n",
        "\n",
        "import tensorflow as tf\n",
        "from sklearn.model_selection import train_test_split\n",
        "from sklearn.linear_model import LinearRegression\n",
        "from sklearn.neighbors import KNeighborsRegressor\n",
        "from sklearn.metrics import mean_squared_error\n",
        "from sklearn.metrics import mean_absolute_percentage_error\n",
        "from sklearn.metrics import accuracy_score\n",
        "from sklearn.metrics import explained_variance_score\n",
        "from sklearn.preprocessing import MinMaxScaler"
      ],
      "metadata": {
        "id": "iVQWF2-y80EI"
      },
      "execution_count": 29,
      "outputs": []
    },
    {
      "cell_type": "code",
      "execution_count": 30,
      "metadata": {
        "id": "Eisz0jI08Yxn"
      },
      "outputs": [],
      "source": [
        "data_train = pd.read_csv('Hyderabad_Power_Train.csv')\n",
        "# data_test = pd.read_csv('Hyderabad_Power_Test.csv')\n",
        "\n",
        "data_train.rename(columns = {'Wind Speed':'WindSpeed'}, inplace = True)\n",
        "data_train.rename(columns = {'diffuse flows':'diffuseflows'}, inplace = True)\n",
        "data_train.rename(columns = {'general diffuse flows':'generaldiffuseflows'}, inplace = True)"
      ]
    },
    {
      "cell_type": "code",
      "source": [
        "# sns.pairplot(data_train);"
      ],
      "metadata": {
        "id": "4sU8iUVKFUFA"
      },
      "execution_count": 31,
      "outputs": []
    },
    {
      "cell_type": "code",
      "source": [
        "# data_train.corr().style.background_gradient(cmap='coolwarm')"
      ],
      "metadata": {
        "id": "BRwLNR_4IlcM"
      },
      "execution_count": 32,
      "outputs": []
    },
    {
      "cell_type": "markdown",
      "source": [
        "# Temperature"
      ],
      "metadata": {
        "id": "8UVf2_qS9-QB"
      }
    },
    {
      "cell_type": "code",
      "source": [
        "mean_value=data_train['Temperature'].dropna().mean()\n",
        "print(mean_value)\n",
        "# print(data_train['Temperature'].quantile([0.25,0.5,0.99]))\n",
        "\n",
        "data_train['Temperature'].fillna(mean_value, inplace=True)\n",
        "print(data_train['Temperature'].isna().sum())\n",
        "\n",
        "plt.hist(data_train['Temperature'])\n",
        "plt.show()"
      ],
      "metadata": {
        "colab": {
          "base_uri": "https://localhost:8080/",
          "height": 301
        },
        "id": "APGLa6dK9EDl",
        "outputId": "bb998009-e8ff-43cf-933d-1f148d496b11"
      },
      "execution_count": 33,
      "outputs": [
        {
          "output_type": "stream",
          "name": "stdout",
          "text": [
            "19.303899333667694\n",
            "0\n"
          ]
        },
        {
          "output_type": "display_data",
          "data": {
            "text/plain": [
              "<Figure size 432x288 with 1 Axes>"
            ],
            "image/png": "[encoded data removed]"
          },
          "metadata": {
            "needs_background": "light"
          }
        }
      ]
    },
    {
      "cell_type": "markdown",
      "source": [
        "# Humidity"
      ],
      "metadata": {
        "id": "8nXGl-zJ-gfE"
      }
    },
    {
      "cell_type": "code",
      "source": [
        "mean_value=data_train['Humidity'].dropna().mean()\n",
        "print(mean_value)\n",
        "# print(data_train['Temperature'].quantile([0.25,0.5,0.99]))\n",
        "\n",
        "data_train['Humidity'].fillna(mean_value, inplace=True)\n",
        "print(data_train['Humidity'].isna().sum())\n",
        "\n",
        "plt.hist(data_train['Humidity'])\n",
        "plt.show()"
      ],
      "metadata": {
        "colab": {
          "base_uri": "https://localhost:8080/",
          "height": 302
        },
        "id": "7EZmxkIM-CCs",
        "outputId": "de677316-c64e-4820-b911-96f13c5bc221"
      },
      "execution_count": 34,
      "outputs": [
        {
          "output_type": "stream",
          "name": "stdout",
          "text": [
            "68.16809844265092\n",
            "0\n"
          ]
        },
        {
          "output_type": "display_data",
          "data": {
            "text/plain": [
              "<Figure size 432x288 with 1 Axes>"
            ],
            "image/png": "[encoded data removed]"
          },
          "metadata": {
            "needs_background": "light"
          }
        }
      ]
    },
    {
      "cell_type": "markdown",
      "source": [
        "# Wind Speed"
      ],
      "metadata": {
        "id": "KqFTW6uB-wrR"
      }
    },
    {
      "cell_type": "code",
      "source": [
        "median_value=data_train['WindSpeed'].dropna().median()\n",
        "print(median_value)\n",
        "# print(data_train['Temperature'].quantile([0.25,0.5,0.99]))\n",
        "\n",
        "data_train['WindSpeed'].fillna(median_value, inplace=True)\n",
        "print(data_train['WindSpeed'].isna().sum())\n",
        "\n",
        "plt.hist(data_train['WindSpeed'])\n",
        "plt.show()"
      ],
      "metadata": {
        "colab": {
          "base_uri": "https://localhost:8080/",
          "height": 301
        },
        "id": "Jsn0n22n-wAs",
        "outputId": "154c4451-7f5b-4ce1-dcd2-d29bc1ceea72"
      },
      "execution_count": 35,
      "outputs": [
        {
          "output_type": "stream",
          "name": "stdout",
          "text": [
            "0.087\n",
            "0\n"
          ]
        },
        {
          "output_type": "display_data",
          "data": {
            "text/plain": [
              "<Figure size 432x288 with 1 Axes>"
            ],
            "image/png": "[encoded data removed]"
          },
          "metadata": {
            "needs_background": "light"
          }
        }
      ]
    },
    {
      "cell_type": "markdown",
      "source": [
        "# general diffuse flows"
      ],
      "metadata": {
        "id": "fQI-12wu-mgA"
      }
    },
    {
      "cell_type": "code",
      "source": [
        "mean_value=data_train['generaldiffuseflows'].dropna().mean()\n",
        "print(mean_value)\n",
        "# print(data_train['Temperature'].quantile([0.25,0.5,0.99]))\n",
        "\n",
        "data_train['generaldiffuseflows'].fillna(mean_value, inplace=True)\n",
        "print(data_train['generaldiffuseflows'].isna().sum())\n",
        "\n",
        "plt.hist(data_train['generaldiffuseflows'])\n",
        "plt.show()"
      ],
      "metadata": {
        "colab": {
          "base_uri": "https://localhost:8080/",
          "height": 301
        },
        "id": "n5p2yE4p-q4o",
        "outputId": "95bc2331-0ee6-4339-985f-7b4c931f0eca"
      },
      "execution_count": 36,
      "outputs": [
        {
          "output_type": "stream",
          "name": "stdout",
          "text": [
            "190.41577788903987\n",
            "0\n"
          ]
        },
        {
          "output_type": "display_data",
          "data": {
            "text/plain": [
              "<Figure size 432x288 with 1 Axes>"
            ],
            "image/png": "[encoded data removed]"
          },
          "metadata": {
            "needs_background": "light"
          }
        }
      ]
    },
    {
      "cell_type": "markdown",
      "source": [
        "# Diffuse flows"
      ],
      "metadata": {
        "id": "QpQ3qw1j_HPl"
      }
    },
    {
      "cell_type": "code",
      "source": [
        "mean_value=data_train['diffuseflows'].dropna().mean()\n",
        "print(mean_value)\n",
        "# print(data_train['Temperature'].quantile([0.25,0.5,0.99]))\n",
        "\n",
        "data_train['diffuseflows'].fillna(mean_value, inplace=True)\n",
        "print(data_train['diffuseflows'].isna().sum())\n",
        "\n",
        "plt.hist(data_train['diffuseflows'])\n",
        "plt.show()"
      ],
      "metadata": {
        "colab": {
          "base_uri": "https://localhost:8080/",
          "height": 301
        },
        "id": "DeEArtPP_FBY",
        "outputId": "e5b7a241-70cc-4f2c-d514-fd931a5616a3"
      },
      "execution_count": 37,
      "outputs": [
        {
          "output_type": "stream",
          "name": "stdout",
          "text": [
            "78.40013444934326\n",
            "0\n"
          ]
        },
        {
          "output_type": "display_data",
          "data": {
            "text/plain": [
              "<Figure size 432x288 with 1 Axes>"
            ],
            "image/png": "[encoded data removed]"
          },
          "metadata": {
            "needs_background": "light"
          }
        }
      ]
    },
    {
      "cell_type": "code",
      "source": [
        "X = data_train.iloc[:, 1:6]\n",
        "y = data_train.iloc[:, 6]"
      ],
      "metadata": {
        "id": "6erfuUynBXCI"
      },
      "execution_count": 38,
      "outputs": []
    },
    {
      "cell_type": "code",
      "source": [
        "X_train, X_eval, y_train, y_eval = train_test_split(X, y, test_size=0.33, random_state=42)\n",
        "X_train.shape\n",
        "# print(list(X_train))\n",
        "# print(list(y_train))"
      ],
      "metadata": {
        "colab": {
          "base_uri": "https://localhost:8080/"
        },
        "id": "NNCVmJkQ_f3d",
        "outputId": "e0e30ca8-763c-4bf3-aad4-6e21c2fa6048"
      },
      "execution_count": 39,
      "outputs": [
        {
          "output_type": "execute_result",
          "data": {
            "text/plain": [
              "(31889, 5)"
            ]
          },
          "metadata": {},
          "execution_count": 39
        }
      ]
    },
    {
      "cell_type": "code",
      "source": [],
      "metadata": {
        "id": "EepzIQ9SCu_M"
      },
      "execution_count": 39,
      "outputs": []
    },
    {
      "cell_type": "code",
      "source": [
        "scaler_model = MinMaxScaler()\n",
        "scaler_model.fit(X_train)\n",
        "\n",
        "X_train=pd.DataFrame(scaler_model.transform(X_train),columns=X_train.columns,index=X_train.index)\n",
        "\n",
        "# scaler_model.fit(X_eval)\n",
        "\n",
        "X_eval=pd.DataFrame(scaler_model.transform(X_eval),columns=X_eval.columns,index=X_eval.index)"
      ],
      "metadata": {
        "id": "t6R9acMpFAQ0"
      },
      "execution_count": 40,
      "outputs": []
    },
    {
      "cell_type": "code",
      "source": [
        "# data_train.corr().style.background_gradient(cmap='coolwarm')"
      ],
      "metadata": {
        "id": "A8GuPdi_LTAh"
      },
      "execution_count": 41,
      "outputs": []
    },
    {
      "cell_type": "code",
      "source": [
        "feat_cols=[]\n",
        "for cols in data_train.columns[1:6]:\n",
        "    column=tf.feature_column.numeric_column(cols)\n",
        "    feat_cols.append(column)\n",
        "    \n",
        "print(feat_cols)"
      ],
      "metadata": {
        "colab": {
          "base_uri": "https://localhost:8080/"
        },
        "id": "H6uTlKYtSI5l",
        "outputId": "38f17384-c229-4817-f71f-c71503630e84"
      },
      "execution_count": 42,
      "outputs": [
        {
          "output_type": "stream",
          "name": "stdout",
          "text": [
            "[NumericColumn(key='Temperature', shape=(1,), default_value=None, dtype=tf.float32, normalizer_fn=None), NumericColumn(key='Humidity', shape=(1,), default_value=None, dtype=tf.float32, normalizer_fn=None), NumericColumn(key='WindSpeed', shape=(1,), default_value=None, dtype=tf.float32, normalizer_fn=None), NumericColumn(key='generaldiffuseflows', shape=(1,), default_value=None, dtype=tf.float32, normalizer_fn=None), NumericColumn(key='diffuseflows', shape=(1,), default_value=None, dtype=tf.float32, normalizer_fn=None)]\n"
          ]
        }
      ]
    },
    {
      "cell_type": "code",
      "source": [
        "# model=tf.estimator.DNNRegressor(hidden_units=[6,10,6],feature_columns=feat_cols)"
      ],
      "metadata": {
        "id": "RiXcusrwSeV6"
      },
      "execution_count": 43,
      "outputs": []
    },
    {
      "cell_type": "code",
      "source": [
        "model=tf.estimator.DNNRegressor(hidden_units=[256,512,256],feature_columns=feat_cols)"
      ],
      "metadata": {
        "colab": {
          "base_uri": "https://localhost:8080/"
        },
        "id": "hmj5xkwFVzSI",
        "outputId": "0ec44059-af74-4c96-89a5-fb83802566c7"
      },
      "execution_count": 44,
      "outputs": [
        {
          "output_type": "stream",
          "name": "stderr",
          "text": [
            "WARNING:tensorflow:Using temporary folder as model directory: /tmp/tmp3ftltubu\n"
          ]
        }
      ]
    },
    {
      "cell_type": "code",
      "source": [
        "input_func=tf.compat.v1.estimator.inputs.pandas_input_fn(X_train,y_train,batch_size=10,num_epochs=100000,shuffle=True)    #100000\n",
        "model.train(input_fn=input_func,steps=100000)\n",
        "\n",
        "train_metrics=model.evaluate(input_fn=input_func,steps=100000)"
      ],
      "metadata": {
        "id": "5b4q7lKZSuIF"
      },
      "execution_count": null,
      "outputs": []
    },
    {
      "cell_type": "code",
      "source": [
        "pred_input_func=tf.compat.v1.estimator.inputs.pandas_input_fn(x=X_eval,y=y_eval,batch_size=30,num_epochs=1,shuffle=False)#30\n",
        "preds=model.predict(input_fn=pred_input_func)"
      ],
      "metadata": {
        "id": "6qhG6N24U4LV"
      },
      "execution_count": null,
      "outputs": []
    },
    {
      "cell_type": "code",
      "source": [
        "predictions=list(preds)\n",
        "final_pred=[]\n",
        "for pred in predictions:\n",
        "    final_pred.append(pred[\"predictions\"])\n",
        "    \n",
        "test_metric=model.evaluate(input_fn=pred_input_func,steps=100000)\n"
      ],
      "metadata": {
        "id": "MS3YhbirVEY_"
      },
      "execution_count": null,
      "outputs": []
    },
    {
      "cell_type": "code",
      "source": [
        "print(test_metric)\n",
        "\n",
        "#print(mean_squared_error(y_eval, final_pred))\n",
        "# print(mean_absolute_percentage_error(y_eval, final_pred))\n",
        "# explained_variance_score(y_eval, final_pred)"
      ],
      "metadata": {
        "id": "XQEjEt_mVLPt"
      },
      "execution_count": null,
      "outputs": []
    },
    {
      "cell_type": "code",
      "source": [
        "#from tensorflow_core.estimator import inputs\n",
        "\n",
        "# scaler_model = MinMaxScaler()\n",
        "# scaler_model.fit(X_train)\n",
        "\n",
        "# X_train=pd.DataFrame(scaler_model.transform(X_train),columns=X_train.columns,index=X_train.index)\n",
        "\n",
        "# scaler_model.fit(X_eval)\n",
        "\n",
        "# X_eval=pd.DataFrame(scaler_model.transform(X_eval),columns=X_eval.columns,index=X_eval.index)\n",
        "\n",
        "#Creating Feature Columns\n",
        "feat_cols=[]\n",
        "for cols in data_train.columns[:-1]:\n",
        "    column=tf.feature_column.numeric_column(cols)\n",
        "    feat_cols.append(column)\n",
        "    \n",
        "print(feat_cols)\n",
        "\n",
        "#The estimator model\n",
        "model=tf.estimator.DNNRegressor(hidden_units=[6,10,6],feature_columns=feat_cols)\n",
        "\n",
        "#the input function\n",
        "input_func=tf.estimator.inputs.pandas_input_fn(X_train,y_train,batch_size=10,num_epochs=1000,shuffle=True)\n",
        "\n",
        "#Training the model\n",
        "model.train(input_fn=input_func,steps=1000)\n",
        "\n",
        "#Evaluating the model\n",
        "train_metrics=model.evaluate(input_fn=input_func,steps=1000)\n",
        "\n",
        "#Now to predict values we do the following\n",
        "pred_input_func=tf.estimator.inputs.pandas_input_fn(x=X_eval,y=y_eval,batch_size=10,num_epochs=1,shuffle=False)\n",
        "preds=model.predict(input_fn=pred_input_func)\n",
        "\n",
        "predictions=list(preds)\n",
        "final_pred=[]\n",
        "for pred in predictions:\n",
        "    final_pred.append(pred[\"predictions\"])\n",
        "    \n",
        "test_metric=model.evaluate(input_fn=pred_input_func,steps=1000)\n",
        "\n",
        "mean_squared_error(y_eval, final_pred, multioutput=[0.3, 0.7])\n"
      ],
      "metadata": {
        "id": "2PRCIirNQDu7"
      },
      "execution_count": null,
      "outputs": []
    },
    {
      "cell_type": "code",
      "source": [],
      "metadata": {
        "id": "8zX_-RCpkeI0"
      },
      "execution_count": null,
      "outputs": []
    },
    {
      "cell_type": "markdown",
      "source": [
        "**MAPE performance score is : 3.15**\n"
      ],
      "metadata": {
        "id": "5j4jHZApkg9S"
      }
    },
    {
      "cell_type": "markdown",
      "source": [],
      "metadata": {
        "id": "KWcqvY8uked6"
      }
    }
  ]
}